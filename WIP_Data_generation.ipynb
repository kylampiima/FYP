{
  "nbformat": 4,
  "nbformat_minor": 0,
  "metadata": {
    "colab": {
      "provenance": [],
      "authorship_tag": "ABX9TyOBElO4Ik5pHP1g5O7CR5s/",
      "include_colab_link": true
    },
    "kernelspec": {
      "name": "python3",
      "display_name": "Python 3"
    },
    "language_info": {
      "name": "python"
    }
  },
  "cells": [
    {
      "cell_type": "markdown",
      "metadata": {
        "id": "view-in-github",
        "colab_type": "text"
      },
      "source": [
        "<a href=\"https://colab.research.google.com/github/kylampiima/FYP/blob/main/WIP_Data_generation.ipynb\" target=\"_parent\"><img src=\"https://colab.research.google.com/assets/colab-badge.svg\" alt=\"Open In Colab\"/></a>"
      ]
    },
    {
      "cell_type": "code",
      "execution_count": null,
      "metadata": {
        "colab": {
          "base_uri": "https://localhost:8080/"
        },
        "id": "HcRnWn9koWa_",
        "outputId": "1740dff8-7707-44de-be4a-b89cc88f7583"
      },
      "outputs": [
        {
          "output_type": "stream",
          "name": "stdout",
          "text": [
            "Collecting pydub\n",
            "  Downloading pydub-0.25.1-py2.py3-none-any.whl.metadata (1.4 kB)\n",
            "Downloading pydub-0.25.1-py2.py3-none-any.whl (32 kB)\n",
            "Installing collected packages: pydub\n",
            "Successfully installed pydub-0.25.1\n"
          ]
        }
      ],
      "source": [
        "pip install pydub"
      ]
    },
    {
      "cell_type": "code",
      "source": [
        "from pydub import AudioSegment"
      ],
      "metadata": {
        "id": "TwR9e_JPoeX2"
      },
      "execution_count": null,
      "outputs": []
    },
    {
      "cell_type": "code",
      "source": [
        "audio1 = AudioSegment.from_file(\"harvard.wav\", format=\"wav\")"
      ],
      "metadata": {
        "id": "6MTam8Zsoh6X"
      },
      "execution_count": null,
      "outputs": []
    },
    {
      "cell_type": "code",
      "source": [
        "sample_rate = 1411\n",
        "num_samples = sample_rate * 2\n",
        "trimmed_audio = audio1[:num_samples]"
      ],
      "metadata": {
        "id": "eAo12iVlozKF"
      },
      "execution_count": null,
      "outputs": []
    },
    {
      "cell_type": "code",
      "source": [
        "trimmed_audio.export(\"outpu.wav\", format=\"wav\")\n",
        "\n",
        "audio2 = AudioSegment.from_file(\"output.wav\", format=\"wav\")"
      ],
      "metadata": {
        "id": "c3v2wfzMo9eq"
      },
      "execution_count": null,
      "outputs": []
    },
    {
      "cell_type": "code",
      "source": [
        "concatenated_audio = audio1 + audio2"
      ],
      "metadata": {
        "id": "KA44Wludo-iV"
      },
      "execution_count": null,
      "outputs": []
    },
    {
      "cell_type": "code",
      "source": [],
      "metadata": {
        "id": "whV2YTPk4QS6"
      },
      "execution_count": 31,
      "outputs": []
    },
    {
      "cell_type": "code",
      "source": [
        "import struct\n",
        "import wave\n",
        "\n",
        "# Open the wave file\n",
        "input_file_path = \"harvard.wav\"\n",
        "output_file_path = \"output.wav\"\n",
        "output_file_path2 = \"output2.wav\"\n",
        "\n",
        "wave_file = wave.open(input_file_path, \"r\")\n",
        "\n",
        "# Get the number of frames and parameters\n",
        "n_frames = wave_file.getnframes()\n",
        "n_channels = wave_file.getnchannels()\n",
        "sample_width = wave_file.getsampwidth()\n",
        "\n",
        "# Ensure we are working with 16-bit PCM audio\n",
        "if sample_width != 2:\n",
        "    print(\"This code only works with 16-bit PCM audio.\")\n",
        "else:\n",
        "    first_non_silent_frame_index = None\n",
        "\n",
        "    # Iterate through frames to find the first non-silent frame\n",
        "    for i in range(n_frames):\n",
        "        # Read a single frame (2 bytes per channel for 16-bit audio)\n",
        "        current_frame = wave_file.readframes(1)\n",
        "\n",
        "        # Check for silence\n",
        "        silent = True\n",
        "\n",
        "        # Check the length of the current frame\n",
        "        if len(current_frame) < n_channels * sample_width:\n",
        "            print(f\"current_frame is too short: {len(current_frame)} bytes\")\n",
        "            break  # Exit if not enough data is available\n",
        "\n",
        "        # Unpack the signed values from the current frame\n",
        "        unpacked_signed_values = struct.unpack(\"<\" + \"h\" * n_channels, current_frame)\n",
        "\n",
        "        # Check if any channel indicates sound\n",
        "        for value in unpacked_signed_values:\n",
        "            if abs(value) > 500:  # Adjust the threshold as needed\n",
        "                silent = False\n",
        "                break\n",
        "\n",
        "        # If we found a non-silent frame, store its index and break\n",
        "        if not silent:\n",
        "            first_non_silent_frame_index = i\n",
        "            break\n",
        "\n",
        "    # If a non-silent frame was found\n",
        "    if first_non_silent_frame_index is not None:\n",
        "        # Move the file pointer to the first non-silent frame\n",
        "        wave_file.setpos(first_non_silent_frame_index)\n",
        "\n",
        "        # Read the remaining frames\n",
        "        remaining_frames = wave_file.readframes(n_frames - first_non_silent_frame_index)\n",
        "        first_non_silent = wave_file.readframes(first_non_silent_frame_index)\n",
        "\n",
        "        # Create a new wave file to save the remaining frames\n",
        "        with wave.open(output_file_path, \"w\") as output_wave_file:\n",
        "            # Set parameters for the new wave file\n",
        "            output_wave_file.setnchannels(n_channels)\n",
        "            output_wave_file.setsampwidth(sample_width)\n",
        "            output_wave_file.setframerate(wave_file.getframerate())\n",
        "            output_wave_file.writeframes(remaining_frames)\n",
        "\n",
        "        # Create a new wave file to save the first none silent frame\n",
        "        with wave.open(output_file_path2, \"w\") as output_wave_file2:\n",
        "            # Set parameters for the new wave file\n",
        "            output_wave_file2.setnchannels(n_channels)\n",
        "            output_wave_file2.setsampwidth(sample_width)\n",
        "            output_wave_file2.setframerate(wave_file.getframerate())\n",
        "            output_wave_file2.writeframes(first_non_silent)\n",
        "\n",
        "        print(f\"Exported frames starting from frame {first_non_silent_frame_index} to '{output_file_path}'\")\n",
        "        print(\"Exported first none silent frame\")\n",
        "    else:\n",
        "        print(\"No non-silent frames found.\")\n",
        "\n",
        "# Close the wave file\n",
        "wave_file.close()"
      ],
      "metadata": {
        "colab": {
          "base_uri": "https://localhost:8080/"
        },
        "id": "KMQC4QQ-Mt2I",
        "outputId": "9087ab65-b62f-474c-fd2d-24ca34584abf"
      },
      "execution_count": 32,
      "outputs": [
        {
          "output_type": "stream",
          "name": "stdout",
          "text": [
            "Exported frames starting from frame 33809 to 'output.wav'\n",
            "Exported first none silent frame\n"
          ]
        }
      ]
    }
  ]
}